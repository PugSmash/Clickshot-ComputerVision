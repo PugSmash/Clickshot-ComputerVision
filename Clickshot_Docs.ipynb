{
 "cells": [
  {
   "cell_type": "markdown",
   "metadata": {},
   "source": [
    "# Welcome To the Clickshot AI Documentation\n",
    "\n",
    "Success Criteria:\n",
    "- Successfully run Clickshot\n",
    "- Be able to delete a square when clicked on and and have a new square generated in a random position\n",
    "- Have the game go on infinitely until exited by the user\n",
    "- Capture the screen and feed it into python at 30+ fps\n",
    "- Have an AI play the game and be able to indefinitely beat it    "
   ]
  },
  {
   "cell_type": "markdown",
   "metadata": {},
   "source": [
    "# Algorithms\n",
    "\n",
    "**Game Loop**: \n",
    "This algorithm is the centre of the game. It recieves game events and processes them aswell as rendering images onto the screen.\n",
    "\n",
    "\n",
    " ![title](images/GameLoop.drawio.png)\n"
   ]
  },
  {
   "cell_type": "markdown",
   "metadata": {},
   "source": [
    "**AI Loop**:\n",
    "This algorithm reads images of the virtual camera and then process the images. After processing the frame it applies contour fining algorithms and then draws the conoturs onto the screen.\n",
    "\n",
    "![title](images/VisionLoop.drawio.png)"
   ]
  },
  {
   "cell_type": "markdown",
   "metadata": {},
   "source": [
    "# Anotated Development\n",
    "\n",
    "### ClickShot.py: \n",
    "This contains the game that is played by the AI."
   ]
  },
  {
   "cell_type": "code",
   "execution_count": null,
   "metadata": {},
   "outputs": [],
   "source": [
    "import pygame # imports the pygame library\n",
    "import random # imports the random library"
   ]
  },
  {
   "cell_type": "markdown",
   "metadata": {},
   "source": [
    "This Code will import both the libraries required for the code. Pygame handles the inputs, gameloop and the graphics."
   ]
  },
  {
   "cell_type": "code",
   "execution_count": null,
   "metadata": {},
   "outputs": [],
   "source": [
    "pygame.init() # initializes the pygame module\n",
    "\n",
    "screen = pygame.display.set_mode((1920, 1080)) # sets the screen to 1920x1080\n",
    "screen.fill((255, 255, 255)) # fills the screen to make it white\n",
    "running = True # variable to control the while loop of the game"
   ]
  },
  {
   "cell_type": "markdown",
   "metadata": {},
   "source": [
    "This section of code does the basic initilization to create a window. It first sets the width and height of the window. The display object is stored in the screen variable. Then the screen is filled to be white. The running variable is set to true so that the gameloop runs indefinetly until exited."
   ]
  },
  {
   "cell_type": "code",
   "execution_count": null,
   "metadata": {},
   "outputs": [],
   "source": [
    "class Targets(pygame.sprite.Sprite): # inherits from the sprite class\n",
    "    def __init__(self, width, height, colour, x_pos, y_pos): \n",
    "        super().__init__() # initialises base items from the sprite class\n",
    "        self.image = pygame.Surface([width, height]) # sets the width and height of the rectange\n",
    "        self.image.fill(colour) # colours the rectangle\n",
    "        self.rect = self.image.get_rect() # stores the rectangle\n",
    "        self.rect.center = (x_pos, y_pos) # sets the rectangles x and y coordinates"
   ]
  },
  {
   "cell_type": "markdown",
   "metadata": {},
   "source": [
    "This piece of code defines the Target class of the game. This is the main object in our game. It stores its position and bounds. It also stores its colour. The rectangle is derived from teh surface generated and then dtored as part of the sprite."
   ]
  },
  {
   "cell_type": "code",
   "execution_count": null,
   "metadata": {},
   "outputs": [],
   "source": [
    "Target_group = pygame.sprite.Group() # generates a sprite group\n",
    "mouse_x = 0 # variable to store the x coordinage of the mouse\n",
    "mouse_y = 0 # variable to store the y coordinate of the mouse\n",
    "\n",
    "Target = Targets(50, 50, (0, 0, 255), random.randint(1, 1920), random.randint(1, 1080)) # Target object which is 50x50, blue and has a random position on the screen\n",
    "Target_group.add(Target) # Target added to the target group"
   ]
  },
  {
   "cell_type": "markdown",
   "metadata": {},
   "source": [
    "This code initialises the target for the game. It first creates a target object which is 50x50, blue and has a random position on the screen. This is then added to the sprite group - \"Target_group\". This is the pygame methode for storing sprites to make them easier to render."
   ]
  },
  {
   "cell_type": "code",
   "execution_count": null,
   "metadata": {},
   "outputs": [],
   "source": [
    "while running: # The Game Loop\n",
    "    for event in pygame.event.get(): # chechs for evenys\n",
    "        if event.type == pygame.QUIT: # if a user quits the game\n",
    "            pygame.quit()\n",
    "        if event.type == pygame.MOUSEMOTION: # if the user moves the mouse\n",
    "            mouse_x, mouse_y = event.pos\n",
    "        if event.type == pygame.MOUSEBUTTONDOWN: # if the user clicks the mouse\n",
    "            for target in Target_group: # loops through all the targets\n",
    "                if target.rect.collidepoint(mouse_x, mouse_y): # Checks wether there is a collision between the mouse and the rectangle of the sprite \n",
    "                    target.kill() # target deleted from the group\n",
    "                    screen.fill(\"white\") # screen filled\n",
    "                    Target = Targets(50, 50, (0, 0, 255), random.randint(1, 1920), random.randint(1, 1080)) # new target generated\n",
    "                    Target_group.add(Target) # new target added\n",
    "                    Target_group.draw(screen) # new target drawn onto the screen\n",
    "\n",
    "    pygame.display.flip() # the screen is updated\n",
    "    Target_group.draw(screen) # item is drawn if there are no events"
   ]
  },
  {
   "cell_type": "markdown",
   "metadata": {},
   "source": [
    "This code is the main game loop. It runs indefinetly using a while true loop. Then, all the game events are fetched. These are then looped through to chech their type. If it is a \"Quit event\" the game is closed. If the mouse moves, the x and y positions of the mouse are stored in variables. If the mosue is clicked, there is a check to see if any of the sprites are colliding with the position of the mouse. If so, the sprite is eliminated and a new one is generated to replace it. It has a randomised position. It is then added to the sprite group and drawn on the screen. The screen us updated using pygame.display.flip(). Then the target group is drawn if there are no events registered. This loop goes on until the game is quited.\n",
    "\n",
    "The end product of the game looks like this:\n",
    "\n",
    "![title](images/game1.png)\n",
    "\n",
    "As you can see below, after being clicked the new sprite is generated in a different position\n",
    "\n",
    "![title](images/game2.png)"
   ]
  },
  {
   "cell_type": "markdown",
   "metadata": {},
   "source": [
    "### Main.py: \n",
    "This runs the AI which processes images fed to it and can the provide inputs into the game"
   ]
  },
  {
   "cell_type": "code",
   "execution_count": null,
   "metadata": {},
   "outputs": [],
   "source": [
    "import cv2\n",
    "import numpy as np\n",
    "import mouse"
   ]
  },
  {
   "cell_type": "markdown",
   "metadata": {},
   "source": [
    "This code imports the relevent modules for the AI. OpenCV is a module used to process images and videos. Numpy is used to handle arrays, matricies and perform linear algebra operations. The mouse module allows for the AI to control the mouse and click, allowing it to play the game."
   ]
  },
  {
   "cell_type": "code",
   "execution_count": null,
   "metadata": {},
   "outputs": [],
   "source": [
    "cam = cv2.VideoCapture(0) # recieves inpu from teh virtual camera"
   ]
  },
  {
   "cell_type": "markdown",
   "metadata": {},
   "source": [
    "This line of code creates an object that can read from a camera. For this AI, I used the OBS virtual camera to capture the screen. This is because OBS can capture the screen at 60 FPS, which is greater than trying to screenshot the screen rapidly. The OBS interface looks like this:\n",
    "\n",
    "![title](images/obs.png)\n",
    "\n",
    "This utilises the virtual camera plugin which allows screen recording to be viewed as a camera by Opencv."
   ]
  },
  {
   "cell_type": "code",
   "execution_count": null,
   "metadata": {},
   "outputs": [],
   "source": [
    "while True:\n",
    "    check, img = cam.read() # frame readf of the camera\n",
    "    frame = np.array(img) # coverted to an array\n",
    "\n",
    "    hsv = cv2.cvtColor(frame, cv2.COLOR_BGR2HSV) # frame converted to hsv \n",
    "    mask = cv2.inRange(hsv, np.array([110, 200, 20]), np.array([130, 255, 255])) # colour mask generated"
   ]
  },
  {
   "cell_type": "markdown",
   "metadata": {},
   "source": [
    "This piece of code starts the while loop. Then an image is read from the virtual camera. It is then made into a numpy array to make the processing easier. Then, the image needs to be converted to hsv format as that is the format used for colour masks. Then the image is converted into a colour mask. this detects all pixels within the range set in the function. Here is the output:\n",
    "\n",
    "![title](images/mask.png)\n",
    "\n",
    "As you can see, the image is converted to a black an white image where white pixels fell within the range and black pixels outsude. This creates a clear contour around the rectangle."
   ]
  },
  {
   "cell_type": "code",
   "execution_count": null,
   "metadata": {},
   "outputs": [],
   "source": [
    "contours, _ = cv2.findContours(mask, cv2.RETR_TREE, cv2.CHAIN_APPROX_SIMPLE)\n",
    "\n",
    "for cnt in contours:\n",
    "    area = cv2.contourArea(cnt)\n",
    "    if 3000 > area > 100:\n",
    "        x, y, w, h = cv2.boundingRect(cnt)\n",
    "        cv2.rectangle(frame, (x, y), (x + w, y + h), (0, 255, 0), 2)\n",
    "        mouse.drag(0, 0, x, y, absolute=False, duration=0.1)\n",
    "        mouse.click(\"left\")"
   ]
  },
  {
   "cell_type": "markdown",
   "metadata": {},
   "source": [
    "This next part of the code is key for the AI. \"cv2.findcontours()\"is a function that applies a contour finding algorithm to the image. This detects big shifts in colour between areas. This will then return a list of contour objects which contain coordinates of the contours. For each contour, the area is calculated and checked to be within a significant area. This stops small changes in colour being detected by the AI. Then, the x, y, width and height is found using the \"cv2.boundingRect()\". This then allows a rectangle to be drawn around the contour on the frame:\n",
    "\n",
    "![title](images/frame.png)\n",
    "\n",
    "Then, using the mouse module, the AI moves to the position of the contour and clicks on it."
   ]
  },
  {
   "cell_type": "code",
   "execution_count": null,
   "metadata": {},
   "outputs": [],
   "source": [
    "    cv2.imshow('Screen', frame)\n",
    "    cv2.imshow(\"Identifier\", mask)\n",
    "\n",
    "\n",
    "    c = cv2.waitKey(1)\n",
    "    if c == 33:\n",
    "        break\n",
    "\n",
    "cv2.destroyAllWindows()"
   ]
  },
  {
   "cell_type": "markdown",
   "metadata": {},
   "source": [
    "This part of the code displays both the mask and the frame in real time. Then there is a check to see if space has been pressed. This will break the loop and end the AI using \"cv2.destroyAllWindows\"."
   ]
  },
  {
   "cell_type": "markdown",
   "metadata": {},
   "source": [
    "# Evaluation\n",
    "\n",
    "Overall, the game and AI meet all the critera set out at the start. It was especially efficent when capturing the screen. However, the AI can be imporved by adding complexity through more complex gameplay or harder to recognise shapes. In addition to this, the background could be more complex to require more precise preprocessing. In Summation, this project was a success but has quite a lot more room to be extended for more compelxity."
   ]
  }
 ],
 "metadata": {
  "interpreter": {
   "hash": "3e6c3abddbda0c4564da8d1022b61c2bbca95d82b267e83f8248875b795105ac"
  },
  "kernelspec": {
   "display_name": "Python 3.9.12 ('ClickShot')",
   "language": "python",
   "name": "python3"
  },
  "language_info": {
   "name": "python",
   "version": "3.9.12"
  },
  "orig_nbformat": 4
 },
 "nbformat": 4,
 "nbformat_minor": 2
}
